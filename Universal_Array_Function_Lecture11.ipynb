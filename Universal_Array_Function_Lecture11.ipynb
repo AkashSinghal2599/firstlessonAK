{
  "nbformat": 4,
  "nbformat_minor": 0,
  "metadata": {
    "colab": {
      "provenance": [],
      "authorship_tag": "ABX9TyPtkHg9POPXLfjpoQWbEJra",
      "include_colab_link": true
    },
    "kernelspec": {
      "name": "python3",
      "display_name": "Python 3"
    },
    "language_info": {
      "name": "python"
    }
  },
  "cells": [
    {
      "cell_type": "markdown",
      "metadata": {
        "id": "view-in-github",
        "colab_type": "text"
      },
      "source": [
        "<a href=\"https://colab.research.google.com/github/AkashSinghal2599/firstlessonAK/blob/main/Universal_Array_Function_Lecture11.ipynb\" target=\"_parent\"><img src=\"https://colab.research.google.com/assets/colab-badge.svg\" alt=\"Open In Colab\"/></a>"
      ]
    },
    {
      "cell_type": "code",
      "execution_count": 1,
      "metadata": {
        "colab": {
          "base_uri": "https://localhost:8080/"
        },
        "id": "4FISP9SeD5pR",
        "outputId": "ee6adbd5-44e4-4cde-9809-ee30a9a422c9"
      },
      "outputs": [
        {
          "output_type": "execute_result",
          "data": {
            "text/plain": [
              "array([ 0,  1,  2,  3,  4,  5,  6,  7,  8,  9, 10])"
            ]
          },
          "metadata": {},
          "execution_count": 1
        }
      ],
      "source": [
        "import numpy as np\n",
        "array = np.arange(11)\n",
        "array"
      ]
    },
    {
      "cell_type": "code",
      "source": [
        "np.sqrt(array)"
      ],
      "metadata": {
        "colab": {
          "base_uri": "https://localhost:8080/"
        },
        "id": "_-SHlzXHEI_X",
        "outputId": "0250e5c8-9960-458e-d2a6-554ac096936f"
      },
      "execution_count": 2,
      "outputs": [
        {
          "output_type": "execute_result",
          "data": {
            "text/plain": [
              "array([0.        , 1.        , 1.41421356, 1.73205081, 2.        ,\n",
              "       2.23606798, 2.44948974, 2.64575131, 2.82842712, 3.        ,\n",
              "       3.16227766])"
            ]
          },
          "metadata": {},
          "execution_count": 2
        }
      ]
    },
    {
      "cell_type": "code",
      "source": [
        "np.exp(array)"
      ],
      "metadata": {
        "colab": {
          "base_uri": "https://localhost:8080/"
        },
        "id": "-fY3pFXAEZVd",
        "outputId": "811af2a3-8cbb-4961-e6bf-680c7cbd60dc"
      },
      "execution_count": 3,
      "outputs": [
        {
          "output_type": "execute_result",
          "data": {
            "text/plain": [
              "array([1.00000000e+00, 2.71828183e+00, 7.38905610e+00, 2.00855369e+01,\n",
              "       5.45981500e+01, 1.48413159e+02, 4.03428793e+02, 1.09663316e+03,\n",
              "       2.98095799e+03, 8.10308393e+03, 2.20264658e+04])"
            ]
          },
          "metadata": {},
          "execution_count": 3
        }
      ]
    },
    {
      "cell_type": "markdown",
      "source": [
        "Here we learnt how to use universal functions of an Array like square root and exponential"
      ],
      "metadata": {
        "id": "--xZ2OwSEvlS"
      }
    },
    {
      "cell_type": "markdown",
      "source": [
        "and now we move forward to binary functions"
      ],
      "metadata": {
        "id": "lq1HiH1JFOTv"
      }
    },
    {
      "cell_type": "markdown",
      "source": [
        "for doing that we will create a random array which we will do by using random array from numpy and then we will make a random distribution"
      ],
      "metadata": {
        "id": "hedBGGW_FZA9"
      }
    },
    {
      "cell_type": "code",
      "source": [
        "A = np.random.randn(10)\n",
        "A"
      ],
      "metadata": {
        "colab": {
          "base_uri": "https://localhost:8080/"
        },
        "id": "-4MZmDeEEbMy",
        "outputId": "abfa8837-ad8e-4930-83b3-8babe71a7735"
      },
      "execution_count": 5,
      "outputs": [
        {
          "output_type": "execute_result",
          "data": {
            "text/plain": [
              "array([-0.18477349, -0.88139486,  1.6500646 ,  0.29682327,  0.35388725,\n",
              "        0.18523971,  0.62450546,  0.20344995,  1.94894107,  0.18365801])"
            ]
          },
          "metadata": {},
          "execution_count": 5
        }
      ]
    },
    {
      "cell_type": "code",
      "source": [
        "B = np.random.randn(10)\n",
        "B"
      ],
      "metadata": {
        "colab": {
          "base_uri": "https://localhost:8080/"
        },
        "id": "HfFJ7i7DE-3M",
        "outputId": "e662c59a-5633-450e-af05-b7653b2aa129"
      },
      "execution_count": 6,
      "outputs": [
        {
          "output_type": "execute_result",
          "data": {
            "text/plain": [
              "array([-0.7040525 ,  0.34155143, -0.53674168, -0.66596785, -0.55854616,\n",
              "       -0.45354561, -0.05739228,  1.42796623, -0.96504493,  0.44344373])"
            ]
          },
          "metadata": {},
          "execution_count": 6
        }
      ]
    },
    {
      "cell_type": "markdown",
      "source": [
        "Here we learnt how to do random distribution of numbers using random library on numpy and now we have two arrays with normal distribution with some random numbers.  Now we are moving on to learn binary functions."
      ],
      "metadata": {
        "id": "pwClJ48NFD4U"
      }
    },
    {
      "cell_type": "code",
      "source": [
        "np.add(A,B)"
      ],
      "metadata": {
        "colab": {
          "base_uri": "https://localhost:8080/"
        },
        "id": "7LsES7FaGW20",
        "outputId": "39b695d4-f54f-4673-a089-cfe93fa20cdd"
      },
      "execution_count": 7,
      "outputs": [
        {
          "output_type": "execute_result",
          "data": {
            "text/plain": [
              "array([-0.88882599, -0.53984343,  1.11332293, -0.36914458, -0.20465891,\n",
              "       -0.26830591,  0.56711317,  1.63141618,  0.98389614,  0.62710174])"
            ]
          },
          "metadata": {},
          "execution_count": 7
        }
      ]
    },
    {
      "cell_type": "markdown",
      "source": [
        "how to add arrays and now we are going to learn how to find maximum or minimum in an array."
      ],
      "metadata": {
        "id": "LDBvin6zHA6O"
      }
    },
    {
      "cell_type": "code",
      "source": [
        "np.maximum(A,B)"
      ],
      "metadata": {
        "colab": {
          "base_uri": "https://localhost:8080/"
        },
        "id": "G29Lnjz9HD4l",
        "outputId": "3cca428e-e502-4c17-ab2f-f9cb958528b5"
      },
      "execution_count": 8,
      "outputs": [
        {
          "output_type": "execute_result",
          "data": {
            "text/plain": [
              "array([-0.18477349,  0.34155143,  1.6500646 ,  0.29682327,  0.35388725,\n",
              "        0.18523971,  0.62450546,  1.42796623,  1.94894107,  0.44344373])"
            ]
          },
          "metadata": {},
          "execution_count": 8
        }
      ]
    },
    {
      "cell_type": "code",
      "source": [
        "np.minimum(A,B)"
      ],
      "metadata": {
        "colab": {
          "base_uri": "https://localhost:8080/"
        },
        "id": "0ZgKYNRXHSzP",
        "outputId": "675b23b5-f7a9-467d-b65c-7ba0a43423dd"
      },
      "execution_count": 9,
      "outputs": [
        {
          "output_type": "execute_result",
          "data": {
            "text/plain": [
              "array([-0.7040525 , -0.88139486, -0.53674168, -0.66596785, -0.55854616,\n",
              "       -0.45354561, -0.05739228,  0.20344995, -0.96504493,  0.18365801])"
            ]
          },
          "metadata": {},
          "execution_count": 9
        }
      ]
    },
    {
      "cell_type": "markdown",
      "source": [
        "Now we will learn how to open a website by pasting the link in a browser."
      ],
      "metadata": {
        "id": "OcwYneeeH1wn"
      }
    },
    {
      "cell_type": "code",
      "source": [
        "website = 'http://docs.scipy.org/doc/numpy/reference/ufuncs.html#available-ufuncs'\n",
        "import webbrowser\n",
        "webbrowser.open(website)"
      ],
      "metadata": {
        "colab": {
          "base_uri": "https://localhost:8080/"
        },
        "id": "l_rsjPHhH7T5",
        "outputId": "7d426cd4-457a-4908-e148-1d0b79204bc2"
      },
      "execution_count": 16,
      "outputs": [
        {
          "output_type": "execute_result",
          "data": {
            "text/plain": [
              "False"
            ]
          },
          "metadata": {},
          "execution_count": 16
        }
      ]
    },
    {
      "cell_type": "code",
      "source": [],
      "metadata": {
        "id": "jgF04Gt2IL82"
      },
      "execution_count": null,
      "outputs": []
    }
  ]
}