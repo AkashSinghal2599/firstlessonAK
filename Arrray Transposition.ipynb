{
  "nbformat": 4,
  "nbformat_minor": 0,
  "metadata": {
    "colab": {
      "provenance": [],
      "authorship_tag": "ABX9TyM54wbs2g3lsfmpSVtIIbOK",
      "include_colab_link": true
    },
    "kernelspec": {
      "name": "python3",
      "display_name": "Python 3"
    },
    "language_info": {
      "name": "python"
    }
  },
  "cells": [
    {
      "cell_type": "markdown",
      "metadata": {
        "id": "view-in-github",
        "colab_type": "text"
      },
      "source": [
        "<a href=\"https://colab.research.google.com/github/AkashSinghal2599/firstlessonAK/blob/main/Arrray%20Transposition.ipynb\" target=\"_parent\"><img src=\"https://colab.research.google.com/assets/colab-badge.svg\" alt=\"Open In Colab\"/></a>"
      ]
    },
    {
      "cell_type": "code",
      "execution_count": 1,
      "metadata": {
        "colab": {
          "base_uri": "https://localhost:8080/"
        },
        "id": "oL8hWOvQ3hXz",
        "outputId": "2245390a-31da-4576-d8ed-e468f0e968b8"
      },
      "outputs": [
        {
          "output_type": "execute_result",
          "data": {
            "text/plain": [
              "array([[ 0,  1,  2,  3,  4],\n",
              "       [ 5,  6,  7,  8,  9],\n",
              "       [10, 11, 12, 13, 14],\n",
              "       [15, 16, 17, 18, 19],\n",
              "       [20, 21, 22, 23, 24],\n",
              "       [25, 26, 27, 28, 29],\n",
              "       [30, 31, 32, 33, 34],\n",
              "       [35, 36, 37, 38, 39],\n",
              "       [40, 41, 42, 43, 44],\n",
              "       [45, 46, 47, 48, 49]])"
            ]
          },
          "metadata": {},
          "execution_count": 1
        }
      ],
      "source": [
        "import numpy as np\n",
        "array = np.arange(50).reshape((10,5))\n",
        "array\n"
      ]
    },
    {
      "cell_type": "markdown",
      "source": [
        "here we learnt how create columns and rows in array using numpy\n"
      ],
      "metadata": {
        "id": "sSyaNI3_33Q_"
      }
    },
    {
      "cell_type": "code",
      "source": [
        "array.T"
      ],
      "metadata": {
        "colab": {
          "base_uri": "https://localhost:8080/"
        },
        "id": "k7V-WnrR4Au3",
        "outputId": "b756b1cc-b59f-41e9-cb4f-47942858cbe3"
      },
      "execution_count": 2,
      "outputs": [
        {
          "output_type": "execute_result",
          "data": {
            "text/plain": [
              "array([[ 0,  5, 10, 15, 20, 25, 30, 35, 40, 45],\n",
              "       [ 1,  6, 11, 16, 21, 26, 31, 36, 41, 46],\n",
              "       [ 2,  7, 12, 17, 22, 27, 32, 37, 42, 47],\n",
              "       [ 3,  8, 13, 18, 23, 28, 33, 38, 43, 48],\n",
              "       [ 4,  9, 14, 19, 24, 29, 34, 39, 44, 49]])"
            ]
          },
          "metadata": {},
          "execution_count": 2
        }
      ]
    },
    {
      "cell_type": "markdown",
      "source": [
        "Here we learnt how to transposed or reverse the columns and rows in the array using numpy"
      ],
      "metadata": {
        "id": "q7fikgdX4JbI"
      }
    },
    {
      "cell_type": "code",
      "source": [
        "np.dot(array.T, array)"
      ],
      "metadata": {
        "colab": {
          "base_uri": "https://localhost:8080/"
        },
        "id": "-fRc0RN34Qqq",
        "outputId": "0223c742-3b4c-48b3-dd6c-55e8f98b953d"
      },
      "execution_count": 4,
      "outputs": [
        {
          "output_type": "execute_result",
          "data": {
            "text/plain": [
              "array([[7125, 7350, 7575, 7800, 8025],\n",
              "       [7350, 7585, 7820, 8055, 8290],\n",
              "       [7575, 7820, 8065, 8310, 8555],\n",
              "       [7800, 8055, 8310, 8565, 8820],\n",
              "       [8025, 8290, 8555, 8820, 9085]])"
            ]
          },
          "metadata": {},
          "execution_count": 4
        }
      ]
    },
    {
      "cell_type": "code",
      "source": [
        "np.dot(array, array.T)"
      ],
      "metadata": {
        "colab": {
          "base_uri": "https://localhost:8080/"
        },
        "id": "HKCPZg5o492t",
        "outputId": "b6a97fab-9cd1-4ad6-c129-b49ab6ef4c6c"
      },
      "execution_count": 5,
      "outputs": [
        {
          "output_type": "execute_result",
          "data": {
            "text/plain": [
              "array([[   30,    80,   130,   180,   230,   280,   330,   380,   430,\n",
              "          480],\n",
              "       [   80,   255,   430,   605,   780,   955,  1130,  1305,  1480,\n",
              "         1655],\n",
              "       [  130,   430,   730,  1030,  1330,  1630,  1930,  2230,  2530,\n",
              "         2830],\n",
              "       [  180,   605,  1030,  1455,  1880,  2305,  2730,  3155,  3580,\n",
              "         4005],\n",
              "       [  230,   780,  1330,  1880,  2430,  2980,  3530,  4080,  4630,\n",
              "         5180],\n",
              "       [  280,   955,  1630,  2305,  2980,  3655,  4330,  5005,  5680,\n",
              "         6355],\n",
              "       [  330,  1130,  1930,  2730,  3530,  4330,  5130,  5930,  6730,\n",
              "         7530],\n",
              "       [  380,  1305,  2230,  3155,  4080,  5005,  5930,  6855,  7780,\n",
              "         8705],\n",
              "       [  430,  1480,  2530,  3580,  4630,  5680,  6730,  7780,  8830,\n",
              "         9880],\n",
              "       [  480,  1655,  2830,  4005,  5180,  6355,  7530,  8705,  9880,\n",
              "        11055]])"
            ]
          },
          "metadata": {},
          "execution_count": 5
        }
      ]
    },
    {
      "cell_type": "markdown",
      "source": [
        "Here we learnt how to multiply two array or take out the dot product of two arrays horizontally and vertically both."
      ],
      "metadata": {
        "id": "zzLe1Orc5DhA"
      }
    },
    {
      "cell_type": "code",
      "source": [
        "array3d = np.arange(50).reshape((5,5,2))\n",
        "array3d"
      ],
      "metadata": {
        "colab": {
          "base_uri": "https://localhost:8080/"
        },
        "id": "Cq7S_MRu5NbR",
        "outputId": "eadd1aef-4919-443d-d38d-9f0b647416fa"
      },
      "execution_count": 7,
      "outputs": [
        {
          "output_type": "execute_result",
          "data": {
            "text/plain": [
              "array([[[ 0,  1],\n",
              "        [ 2,  3],\n",
              "        [ 4,  5],\n",
              "        [ 6,  7],\n",
              "        [ 8,  9]],\n",
              "\n",
              "       [[10, 11],\n",
              "        [12, 13],\n",
              "        [14, 15],\n",
              "        [16, 17],\n",
              "        [18, 19]],\n",
              "\n",
              "       [[20, 21],\n",
              "        [22, 23],\n",
              "        [24, 25],\n",
              "        [26, 27],\n",
              "        [28, 29]],\n",
              "\n",
              "       [[30, 31],\n",
              "        [32, 33],\n",
              "        [34, 35],\n",
              "        [36, 37],\n",
              "        [38, 39]],\n",
              "\n",
              "       [[40, 41],\n",
              "        [42, 43],\n",
              "        [44, 45],\n",
              "        [46, 47],\n",
              "        [48, 49]]])"
            ]
          },
          "metadata": {},
          "execution_count": 7
        }
      ]
    },
    {
      "cell_type": "markdown",
      "source": [
        "Here we learnt how to create 3D matrix. It's a 3D matrix with 5 slices and each slice consists of five by two array"
      ],
      "metadata": {
        "id": "JYMSfcMn5ooM"
      }
    },
    {
      "cell_type": "code",
      "source": [
        "array3d.transpose((1,0,2))"
      ],
      "metadata": {
        "colab": {
          "base_uri": "https://localhost:8080/"
        },
        "id": "_k4piIkL5_XQ",
        "outputId": "e6a9adf5-09ef-4298-fbeb-04cc545db3a1"
      },
      "execution_count": 8,
      "outputs": [
        {
          "output_type": "execute_result",
          "data": {
            "text/plain": [
              "array([[[ 0,  1],\n",
              "        [10, 11],\n",
              "        [20, 21],\n",
              "        [30, 31],\n",
              "        [40, 41]],\n",
              "\n",
              "       [[ 2,  3],\n",
              "        [12, 13],\n",
              "        [22, 23],\n",
              "        [32, 33],\n",
              "        [42, 43]],\n",
              "\n",
              "       [[ 4,  5],\n",
              "        [14, 15],\n",
              "        [24, 25],\n",
              "        [34, 35],\n",
              "        [44, 45]],\n",
              "\n",
              "       [[ 6,  7],\n",
              "        [16, 17],\n",
              "        [26, 27],\n",
              "        [36, 37],\n",
              "        [46, 47]],\n",
              "\n",
              "       [[ 8,  9],\n",
              "        [18, 19],\n",
              "        [28, 29],\n",
              "        [38, 39],\n",
              "        [48, 49]]])"
            ]
          },
          "metadata": {},
          "execution_count": 8
        }
      ]
    },
    {
      "cell_type": "markdown",
      "source": [
        "in the original 3d matrix we had 10,20,30 as the first row and first column as indexed value and now that's become the first column of the first slice and the same composition carries on. Basically here we learnt how to arrange a matrix in the way we want."
      ],
      "metadata": {
        "id": "JhdRDbDL7Vjr"
      }
    },
    {
      "cell_type": "code",
      "source": [
        "Akash = np.array([[1,2,3]])\n",
        "Akash"
      ],
      "metadata": {
        "colab": {
          "base_uri": "https://localhost:8080/"
        },
        "id": "uvVqlEbt8FMa",
        "outputId": "db120d03-a98c-4a7d-ee65-e68cc5abe6e0"
      },
      "execution_count": 13,
      "outputs": [
        {
          "output_type": "execute_result",
          "data": {
            "text/plain": [
              "array([[1, 2, 3]])"
            ]
          },
          "metadata": {},
          "execution_count": 13
        }
      ]
    },
    {
      "cell_type": "code",
      "source": [
        "Akash.swapaxes(0,1)"
      ],
      "metadata": {
        "colab": {
          "base_uri": "https://localhost:8080/"
        },
        "id": "NvsE9x-287Hz",
        "outputId": "0501b1e6-06d5-4864-c4bd-4920ce7756a2"
      },
      "execution_count": 20,
      "outputs": [
        {
          "output_type": "execute_result",
          "data": {
            "text/plain": [
              "array([[1],\n",
              "       [2],\n",
              "       [3]])"
            ]
          },
          "metadata": {},
          "execution_count": 20
        }
      ]
    },
    {
      "cell_type": "markdown",
      "source": [
        "Here we learnt how to swap axes and made an array by swapping the zero axes into ones axes. Basically we made a vertical array out of an horizontal array."
      ],
      "metadata": {
        "id": "8Pon1KXC9THG"
      }
    },
    {
      "cell_type": "markdown",
      "source": [
        "This chapter was on array transpostion. It taught me how to create an array and change it from horizontal to vertical, taught me to make 3d array and how to slice it."
      ],
      "metadata": {
        "id": "b4V92OiK9yfL"
      }
    }
  ]
}